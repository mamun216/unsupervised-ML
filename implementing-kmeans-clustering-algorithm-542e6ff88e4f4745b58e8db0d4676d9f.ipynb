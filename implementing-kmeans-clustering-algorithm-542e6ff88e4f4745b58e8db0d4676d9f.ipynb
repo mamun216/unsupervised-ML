{
  "nbformat": 4,
  "nbformat_minor": 0,
  "metadata": {
    "colab": {
      "name": "KMeans.ipynb",
      "provenance": [],
      "collapsed_sections": []
    },
    "kernelspec": {
      "name": "python3",
      "display_name": "Python 3"
    }
  },
  "cells": [
    {
      "cell_type": "markdown",
      "metadata": {
        "id": "2G-aa9eeN-Hv"
      },
      "source": [
        "# Clustering \n",
        "Clustering is a set of techniques used to partition data into groups, or clusters. Clusters are loosely defined as groups of data objects that are more similar to other objects in their cluster than they are to data objects in other clusters. \n",
        "\n",
        "\n",
        "Many clustering algorithms are available in Scikit-Learn and elsewhere, but perhaps the simplest to understand is an algorithm known as k-means clustering, which is implemented in `sklearn.cluster.KMeans`.\n",
        "\n",
        "We begin with the standard imports:"
      ]
    },
    {
      "cell_type": "code",
      "metadata": {
        "id": "sxpt7kANJLXA"
      },
      "source": [
        "import matplotlib.pyplot as plt"
      ],
      "execution_count": null,
      "outputs": []
    },
    {
      "cell_type": "markdown",
      "metadata": {
        "id": "cyn7SM6xONdV"
      },
      "source": [
        "# K-Means Clustering Algorithm\n",
        "The k-means algorithm searches for a pre-determined number of clusters within an unlabeled multidimensional dataset. It accomplishes this using a simple conception of what the optimal clustering looks like.\n",
        "\n",
        "The \"cluster center\" is the arithmetic mean of all the points belonging to the cluster.\n",
        "Each point is closer to its own cluster center than to other cluster centers."
      ]
    },
    {
      "cell_type": "markdown",
      "metadata": {
        "id": "_48A7NNyZIbd"
      },
      "source": [
        "## Working\n",
        "Conventional k-means requires only a few steps. The first step is to randomly select k centroids, where k is equal to the number of clusters you choose. Centroids are data points representing the center of a cluster.\n",
        "\n",
        "The main element of the algorithm works by a two-step process called expectation-maximization. The expectation step assigns each data point to its nearest centroid. Then, the maximization step computes the mean of all the points for each cluster and sets the new centroid. Here’s what the conventional version of the k-means algorithm looks like:\n",
        "\n",
        "![](https://files.realpython.com/media/kmeans-algorithm.a94498a7ecd2.png)"
      ]
    },
    {
      "cell_type": "markdown",
      "metadata": {
        "id": "GetcuQqCaB1s"
      },
      "source": [
        "### Imports for implementing K-Means Clustering\n"
      ]
    },
    {
      "cell_type": "code",
      "metadata": {
        "colab": {
          "base_uri": "https://localhost:8080/"
        },
        "id": "eru4p-Onbiaw",
        "outputId": "f4fcce76-79d0-463b-9c46-4d4cb9c266cf"
      },
      "source": [
        "!pip install kneed"
      ],
      "execution_count": null,
      "outputs": [
        {
          "output_type": "stream",
          "text": [
            "Requirement already satisfied: kneed in /usr/local/lib/python3.6/dist-packages (0.7.0)\n",
            "Requirement already satisfied: matplotlib in /usr/local/lib/python3.6/dist-packages (from kneed) (3.2.2)\n",
            "Requirement already satisfied: scipy in /usr/local/lib/python3.6/dist-packages (from kneed) (1.4.1)\n",
            "Requirement already satisfied: numpy>=1.14.2 in /usr/local/lib/python3.6/dist-packages (from kneed) (1.19.5)\n",
            "Requirement already satisfied: pyparsing!=2.0.4,!=2.1.2,!=2.1.6,>=2.0.1 in /usr/local/lib/python3.6/dist-packages (from matplotlib->kneed) (2.4.7)\n",
            "Requirement already satisfied: cycler>=0.10 in /usr/local/lib/python3.6/dist-packages (from matplotlib->kneed) (0.10.0)\n",
            "Requirement already satisfied: python-dateutil>=2.1 in /usr/local/lib/python3.6/dist-packages (from matplotlib->kneed) (2.8.1)\n",
            "Requirement already satisfied: kiwisolver>=1.0.1 in /usr/local/lib/python3.6/dist-packages (from matplotlib->kneed) (1.3.1)\n",
            "Requirement already satisfied: six in /usr/local/lib/python3.6/dist-packages (from cycler>=0.10->matplotlib->kneed) (1.15.0)\n"
          ],
          "name": "stdout"
        }
      ]
    },
    {
      "cell_type": "code",
      "metadata": {
        "id": "BohkpYv7aHRL"
      },
      "source": [
        "from kneed import KneeLocator\n",
        "from sklearn.datasets import make_blobs\n",
        "from sklearn.cluster import KMeans\n",
        "from sklearn.preprocessing import StandardScaler"
      ],
      "execution_count": null,
      "outputs": []
    },
    {
      "cell_type": "markdown",
      "metadata": {
        "id": "bPaVdQFOaPj_"
      },
      "source": [
        "First, let's generate a two-dimensional dataset containing four distinct blobs. \n",
        "\n",
        "make_blobs() is a convenience function in scikit-learn used to generate synthetic clusters. It uses these parameters:\n",
        "\n",
        "* n_samples is the total number of samples to generate.\n",
        "* centers is the number of centers to generate.\n",
        "* cluster_std is the standard deviation.\n",
        "\n",
        "Nondeterministic machine learning algorithms like k-means are difficult to reproduce. The random_state parameter is set to an integer value so you can follow the data presented in the tutorial.\n",
        "\n",
        "make_blobs() returns a tuple of two values:\n",
        "\n",
        "* A two-dimensional NumPy array with the x- and y-values for each of the samples\n",
        "* A one-dimensional NumPy array containing the cluster labels for each sample"
      ]
    },
    {
      "cell_type": "code",
      "metadata": {
        "id": "llFV4Cr9atJQ"
      },
      "source": [
        "features, true_labels = make_blobs(\n",
        "    n_samples=300,\n",
        "    centers=4,\n",
        "    cluster_std=0.60,\n",
        "    random_state=0\n",
        ")"
      ],
      "execution_count": null,
      "outputs": []
    },
    {
      "cell_type": "markdown",
      "metadata": {
        "id": "1NYbcyd9a_2F"
      },
      "source": [
        "Here’s a look at the first five elements for each of the variables returned by make_blobs():"
      ]
    },
    {
      "cell_type": "code",
      "metadata": {
        "colab": {
          "base_uri": "https://localhost:8080/"
        },
        "id": "XjGFs2iUbKUP",
        "outputId": "0b5be386-91aa-4b9a-ed53-2a06b008e2d0"
      },
      "source": [
        "features[:5]"
      ],
      "execution_count": null,
      "outputs": [
        {
          "output_type": "execute_result",
          "data": {
            "text/plain": [
              "array([[ 0.83685684,  2.13635938],\n",
              "       [-1.4136581 ,  7.40962324],\n",
              "       [ 1.15521298,  5.09961887],\n",
              "       [-1.01861632,  7.81491465],\n",
              "       [ 1.27135141,  1.89254207]])"
            ]
          },
          "metadata": {
            "tags": []
          },
          "execution_count": 5
        }
      ]
    },
    {
      "cell_type": "code",
      "metadata": {
        "colab": {
          "base_uri": "https://localhost:8080/"
        },
        "id": "WkK6GMBTbcQ-",
        "outputId": "c77b043a-bf91-4316-9c89-5ebafac6aae4"
      },
      "source": [
        "true_labels[:5]"
      ],
      "execution_count": null,
      "outputs": [
        {
          "output_type": "execute_result",
          "data": {
            "text/plain": [
              "array([1, 3, 0, 3, 1])"
            ]
          },
          "metadata": {
            "tags": []
          },
          "execution_count": 6
        }
      ]
    },
    {
      "cell_type": "markdown",
      "metadata": {
        "id": "zqV6ysgfbzQf"
      },
      "source": [
        "The dataset is actually labeled and true_labels represents the labels of each data point. However, to emphasize that this is an unsupervised algorithm, we will leave the labels out of the visualization."
      ]
    },
    {
      "cell_type": "markdown",
      "metadata": {
        "id": "8zaY_L3Bd6n0"
      },
      "source": [
        "Let's visualize the data using a scatter plot"
      ]
    },
    {
      "cell_type": "code",
      "metadata": {
        "colab": {
          "base_uri": "https://localhost:8080/",
          "height": 265
        },
        "id": "ImWDoH8fbune",
        "outputId": "4938c194-7c70-4f66-93d7-9b341c149d5f"
      },
      "source": [
        "plt.scatter(features[:, 0], features[:, 1], s=50);"
      ],
      "execution_count": null,
      "outputs": [
        {
          "output_type": "display_data",
          "data": {
            "image/png": "[encoded data removed]",
            "text/plain": [
              "<Figure size 432x288 with 1 Axes>"
            ]
          },
          "metadata": {
            "tags": [],
            "needs_background": "light"
          }
        }
      ]
    },
    {
      "cell_type": "markdown",
      "metadata": {
        "id": "oZ0Po241eVa3"
      },
      "source": [
        "By eye, it is relatively easy to pick out the four clusters. "
      ]
    },
    {
      "cell_type": "markdown",
      "metadata": {
        "id": "M5krJDxxeniW"
      },
      "source": [
        "## Feature Scaling\n",
        "Data sets usually contain numerical features that have been measured in different units, such as height (in inches) and weight (in pounds). A machine learning algorithm would consider weight more important than height only because the values for weight are larger and have higher variability from person to person.\n",
        "\n",
        "Machine learning algorithms need to consider all features on an even playing field. That means the values for all features must be transformed to the same scale.\n",
        "\n",
        "The process of transforming numerical features to use the same scale is known as feature scaling. It’s an important data preprocessing step for most distance-based machine learning algorithms because it can have a significant impact on the performance of your algorithm.\n",
        "\n",
        "There are several approaches to implementing feature scaling. In this example, we’ll use the StandardScaler class. This class implements a type of feature scaling called standardization. Standardization scales, or shifts, the values for each numerical feature in your dataset so that the features have a mean of 0 and standard deviation of 1:"
      ]
    },
    {
      "cell_type": "code",
      "metadata": {
        "colab": {
          "base_uri": "https://localhost:8080/"
        },
        "id": "P8jeu3OgeBXC",
        "outputId": "c5140014-1a68-48ff-a904-3aa069da2fd4"
      },
      "source": [
        "scaler = StandardScaler()\n",
        "X = scaler.fit_transform(features)\n",
        "X[:5]"
      ],
      "execution_count": null,
      "outputs": [
        {
          "output_type": "execute_result",
          "data": {
            "text/plain": [
              "array([[ 0.51625508, -0.70722723],\n",
              "       [-0.86166376,  1.3290677 ],\n",
              "       [ 0.71117444,  0.43704896],\n",
              "       [-0.61979222,  1.48557283],\n",
              "       [ 0.78228231, -0.8013784 ]])"
            ]
          },
          "metadata": {
            "tags": []
          },
          "execution_count": 8
        }
      ]
    },
    {
      "cell_type": "markdown",
      "metadata": {
        "id": "WfRfxn3sfFLU"
      },
      "source": [
        "## Building a K-Means Model\n",
        "Now the data is ready to be clustered. The KMeans estimator class in scikit-learn is where you set the algorithm parameters before fitting the estimator to the data. The scikit-learn implementation is flexible, providing several parameters that can be tuned.\n",
        "\n",
        "Here are the parameters used in this example:\n",
        "\n",
        "* **init** controls the initialization technique. The standard version of the k-means algorithm is implemented by setting init to \"random\". Setting this to \"k-means++\" employs an advanced trick to speed up convergence, which you’ll use later.\n",
        "\n",
        "* **n_clusters** sets k for the clustering step. This is the **most important parameter for k-means**.\n",
        "\n",
        "* **n_init** sets the number of initializations to perform. This is important because two runs can converge on different cluster assignments. The default behavior for the scikit-learn algorithm is to perform ten k-means runs and return the results of the one with the lowest SSE.\n",
        "\n",
        "* **max_iter** sets the number of maximum iterations for each initialization of the k-means algorithm.\n",
        "\n",
        "Instantiate the KMeans class with the following arguments:"
      ]
    },
    {
      "cell_type": "code",
      "metadata": {
        "id": "xDLmJxnUe3I5"
      },
      "source": [
        "kmeans = KMeans(\n",
        "    init=\"random\",\n",
        "    n_clusters=4,\n",
        "    n_init=10,\n",
        "    max_iter=300,\n",
        "    random_state=0\n",
        ")"
      ],
      "execution_count": null,
      "outputs": []
    },
    {
      "cell_type": "markdown",
      "metadata": {
        "id": "Ps1dAv27f-NA"
      },
      "source": [
        "## Training the model\n",
        "Now that the k-means class is ready, the next step is to fit it to the data in scaled_features. This will perform ten runs of the k-means algorithm on your data with a maximum of 300 iterations per run:"
      ]
    },
    {
      "cell_type": "code",
      "metadata": {
        "colab": {
          "base_uri": "https://localhost:8080/"
        },
        "id": "3cNbyOjGfy9N",
        "outputId": "1980086c-f2d9-49d7-9a70-dd4780975e09"
      },
      "source": [
        "kmeans.fit(X)"
      ],
      "execution_count": null,
      "outputs": [
        {
          "output_type": "execute_result",
          "data": {
            "text/plain": [
              "KMeans(algorithm='auto', copy_x=True, init='random', max_iter=300, n_clusters=4,\n",
              "       n_init=10, n_jobs=None, precompute_distances='auto', random_state=0,\n",
              "       tol=0.0001, verbose=0)"
            ]
          },
          "metadata": {
            "tags": []
          },
          "execution_count": 10
        }
      ]
    },
    {
      "cell_type": "markdown",
      "metadata": {
        "id": "34hL6VZJgWTe"
      },
      "source": [
        "## Assessing the attributes from training\n",
        "Statistics from the initialization run with the lowest SSE are available as attributes of kmeans after calling .fit():"
      ]
    },
    {
      "cell_type": "code",
      "metadata": {
        "colab": {
          "base_uri": "https://localhost:8080/"
        },
        "id": "B7-HLSOZgEOz",
        "outputId": "a4927202-e495-4603-805f-cfceac44d0fe"
      },
      "source": [
        "# The lowest SSE value\n",
        "kmeans.inertia_"
      ],
      "execution_count": null,
      "outputs": [
        {
          "output_type": "execute_result",
          "data": {
            "text/plain": [
              "56.02477057509952"
            ]
          },
          "metadata": {
            "tags": []
          },
          "execution_count": 11
        }
      ]
    },
    {
      "cell_type": "code",
      "metadata": {
        "colab": {
          "base_uri": "https://localhost:8080/"
        },
        "id": "shAHbhKYgkxB",
        "outputId": "8d6f3116-f332-4299-da0e-6d6c1fec64d2"
      },
      "source": [
        "# Final locations of the centroids\n",
        "kmeans.cluster_centers_"
      ],
      "execution_count": null,
      "outputs": [
        {
          "output_type": "execute_result",
          "data": {
            "text/plain": [
              "array([[-0.83691948,  1.46193015],\n",
              "       [ 0.58536699,  0.17425154],\n",
              "       [ 1.21774671, -1.19712077],\n",
              "       [-0.96619422, -0.43906093]])"
            ]
          },
          "metadata": {
            "tags": []
          },
          "execution_count": 12
        }
      ]
    },
    {
      "cell_type": "code",
      "metadata": {
        "colab": {
          "base_uri": "https://localhost:8080/"
        },
        "id": "UsjiAVgOgo1k",
        "outputId": "51b17ef9-62a8-4f37-d38e-a299db5203fa"
      },
      "source": [
        "# The number of iterations required to converge\n",
        "kmeans.n_iter_"
      ],
      "execution_count": null,
      "outputs": [
        {
          "output_type": "execute_result",
          "data": {
            "text/plain": [
              "5"
            ]
          },
          "metadata": {
            "tags": []
          },
          "execution_count": 13
        }
      ]
    },
    {
      "cell_type": "markdown",
      "metadata": {
        "id": "lYuf4UVbgxnx"
      },
      "source": [
        "Finally, the cluster assignments are stored as a one-dimensional NumPy array in kmeans.labels_. Here’s a look at the first five predicted labels:"
      ]
    },
    {
      "cell_type": "code",
      "metadata": {
        "colab": {
          "base_uri": "https://localhost:8080/"
        },
        "id": "T5vN-jsCgrkX",
        "outputId": "2a60353b-64e8-4eab-ac7d-238f46ed2a4a"
      },
      "source": [
        "kmeans.labels_[:5]"
      ],
      "execution_count": null,
      "outputs": [
        {
          "output_type": "execute_result",
          "data": {
            "text/plain": [
              "array([2, 0, 1, 0, 2], dtype=int32)"
            ]
          },
          "metadata": {
            "tags": []
          },
          "execution_count": 14
        }
      ]
    },
    {
      "cell_type": "markdown",
      "metadata": {
        "id": "5QhW6Zcyg-ia"
      },
      "source": [
        "**Note:** Ordering of cluster labels is dependent on the initialization. So it's normal to see that clusters with true_labels as 3 labeled with 2 here. This doesn’t affect clustering evaluation metrics."
      ]
    },
    {
      "cell_type": "markdown",
      "metadata": {
        "id": "B-zvXSO2hdKE"
      },
      "source": [
        "Rather than using labels_, you can also get the predicted the labels using the `predict` method."
      ]
    },
    {
      "cell_type": "code",
      "metadata": {
        "colab": {
          "base_uri": "https://localhost:8080/"
        },
        "id": "veNwpPTag1__",
        "outputId": "b71955c6-c43f-40ed-a1b5-e2035d04e898"
      },
      "source": [
        "y_kmeans = kmeans.predict(X)\n",
        "y_kmeans[:5]"
      ],
      "execution_count": null,
      "outputs": [
        {
          "output_type": "execute_result",
          "data": {
            "text/plain": [
              "array([2, 0, 1, 0, 2], dtype=int32)"
            ]
          },
          "metadata": {
            "tags": []
          },
          "execution_count": 15
        }
      ]
    },
    {
      "cell_type": "markdown",
      "metadata": {
        "id": "8wszIJTIh8lh"
      },
      "source": [
        "## Visualizing results\n",
        "Let's visualize the results by plotting the data colored by these labels. We will also plot the cluster centers as determined by the k-means estimator:"
      ]
    },
    {
      "cell_type": "code",
      "metadata": {
        "colab": {
          "base_uri": "https://localhost:8080/",
          "height": 265
        },
        "id": "Q9ixMHBvhtdN",
        "outputId": "d44760c4-fc3f-4c1b-f65a-052dc760a542"
      },
      "source": [
        "plt.scatter(X[:, 0], X[:, 1], c=y_kmeans, s=50, cmap='viridis')\n",
        "\n",
        "centers = kmeans.cluster_centers_\n",
        "plt.scatter(centers[:, 0], centers[:, 1], c='black', s=200, alpha=0.5);"
      ],
      "execution_count": null,
      "outputs": [
        {
          "output_type": "display_data",
          "data": {
            "image/png": "[encoded data removed]",
            "text/plain": [
              "<Figure size 432x288 with 1 Axes>"
            ]
          },
          "metadata": {
            "tags": [],
            "needs_background": "light"
          }
        }
      ]
    },
    {
      "cell_type": "markdown",
      "metadata": {
        "id": "u9oyZYiSiaaP"
      },
      "source": [
        "The good news is that the k-means algorithm (at least in this simple case) assigns the points to clusters very similarly to how we might assign them by eye. "
      ]
    },
    {
      "cell_type": "markdown",
      "metadata": {
        "id": "ao-Pfqj8kd4Z"
      },
      "source": [
        "# Conclusion\n",
        "In this notebook, we implemented K-Means algorithm to identify the clusters in a simple dataset. "
      ]
    },
    {
      "cell_type": "markdown",
      "metadata": {
        "id": "s9ggmshRkpDN"
      },
      "source": [
        "# References\n",
        "\n",
        "\n",
        "*   https://colab.research.google.com/github/jakevdp/PythonDataScienceHandbook/blob/master/notebooks/05.11-K-Means.ipynb#scrollTo=VGwRIScwNnlb\n",
        "*   https://realpython.com/k-means-clustering-python/#how-to-perform-k-means-clustering-in-python\n",
        "\n"
      ]
    }
  ]
}